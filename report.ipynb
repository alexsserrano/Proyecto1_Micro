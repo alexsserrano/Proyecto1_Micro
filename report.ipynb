{
 "cells": [
  {
   "cell_type": "code",
   "execution_count": 14,
   "id": "initial_id",
   "metadata": {
    "collapsed": true,
    "ExecuteTime": {
     "end_time": "2024-02-26T05:46:44.615961Z",
     "start_time": "2024-02-26T05:46:44.566509Z"
    }
   },
   "outputs": [],
   "source": [
    "# Importación de librerías necesarias\n",
    "import pandas as pd\n",
    "import numpy as np\n",
    "import matplotlib.pyplot as plt\n",
    "import seaborn as sns\n",
    "\n",
    "# Configuración de visualización\n",
    "%matplotlib inline\n",
    "sns.set_style(\"whitegrid\")\n",
    "data_1d = pd.read_csv(\"data/aapl_1d_train.csv\")\n"
   ]
  },
  {
   "cell_type": "code",
   "outputs": [],
   "source": [
    "# 1. Introducción\n"
   ],
   "metadata": {
    "collapsed": false,
    "ExecuteTime": {
     "end_time": "2024-02-26T05:46:44.619715Z",
     "start_time": "2024-02-26T05:46:44.616316Z"
    }
   },
   "id": "280e0a560f788f5b",
   "execution_count": 15
  },
  {
   "cell_type": "code",
   "outputs": [
    {
     "ename": "ModuleNotFoundError",
     "evalue": "No module named 'optimize'",
     "output_type": "error",
     "traceback": [
      "\u001B[0;31m---------------------------------------------------------------------------\u001B[0m",
      "\u001B[0;31mModuleNotFoundError\u001B[0m                       Traceback (most recent call last)",
      "Input \u001B[0;32mIn [16]\u001B[0m, in \u001B[0;36m<cell line: 1>\u001B[0;34m()\u001B[0m\n\u001B[0;32m----> 1\u001B[0m \u001B[38;5;28;01mfrom\u001B[39;00m \u001B[38;5;21;01mtechnical_analysis\u001B[39;00m\u001B[38;5;21;01m.\u001B[39;00m\u001B[38;5;21;01mmain\u001B[39;00m \u001B[38;5;28;01mimport\u001B[39;00m datasets\n\u001B[1;32m      2\u001B[0m \u001B[38;5;28;01mfrom\u001B[39;00m \u001B[38;5;21;01mtechnical_analysis\u001B[39;00m \u001B[38;5;28;01mimport\u001B[39;00m get_strategies\n\u001B[1;32m      3\u001B[0m \u001B[38;5;28;01mfrom\u001B[39;00m \u001B[38;5;21;01mtechnical_analysis\u001B[39;00m\u001B[38;5;21;01m.\u001B[39;00m\u001B[38;5;21;01mgenerate_sell_signals\u001B[39;00m \u001B[38;5;28;01mimport\u001B[39;00m generate_sell_signals\n",
      "File \u001B[0;32m~/Documents/GitHub/Proyecto1_Micro/technical_analysis/main.py:3\u001B[0m, in \u001B[0;36m<module>\u001B[0;34m\u001B[0m\n\u001B[1;32m      1\u001B[0m \u001B[38;5;66;03m# main.py\u001B[39;00m\n\u001B[1;32m      2\u001B[0m \u001B[38;5;28;01mimport\u001B[39;00m \u001B[38;5;21;01mpandas\u001B[39;00m \u001B[38;5;28;01mas\u001B[39;00m \u001B[38;5;21;01mpd\u001B[39;00m\n\u001B[0;32m----> 3\u001B[0m \u001B[38;5;28;01mfrom\u001B[39;00m \u001B[38;5;21;01moptimize\u001B[39;00m \u001B[38;5;28;01mimport\u001B[39;00m optimize\n\u001B[1;32m      4\u001B[0m \u001B[38;5;28;01mfrom\u001B[39;00m \u001B[38;5;21;01mget_strategies\u001B[39;00m \u001B[38;5;28;01mimport\u001B[39;00m get_strategies\n\u001B[1;32m      5\u001B[0m \u001B[38;5;28;01mfrom\u001B[39;00m \u001B[38;5;21;01mgenerate_buy_signals\u001B[39;00m \u001B[38;5;28;01mimport\u001B[39;00m generate_buy_signals\n",
      "\u001B[0;31mModuleNotFoundError\u001B[0m: No module named 'optimize'"
     ]
    }
   ],
   "source": [
    "from technical_analysis.main import datasets\n",
    "from technical_analysis import get_strategies\n",
    "from technical_analysis.generate_sell_signals import generate_sell_signals\n",
    "from technical_analysis.generate_buy_signals import generate_buy_signals\n",
    "\n",
    "# Generación de señales consolidadas\n",
    "buy_signals = generate_buy_signals(data_1d, get_strategies)  # Asegúrate de que esta función devuelve un DataFrame o Serie de señales\n",
    "sell_signals = generate_sell_signals(data_1d, get_strategies)  # Lo mismo para las señales de venta\n",
    "\n",
    "# Consolidar señales: Compra cuando TODAS las estrategias señalan compra, venta cuando TODAS señalan venta\n",
    "all_buy_signals = buy_signals.all(axis=1)  # True solo si todas las columnas son True en esa fila\n",
    "all_sell_signals = sell_signals.all(axis=1)  # True solo si todas las columnas son True en esa fila\n"
   ],
   "metadata": {
    "collapsed": false,
    "ExecuteTime": {
     "end_time": "2024-02-26T05:46:44.644534Z",
     "start_time": "2024-02-26T05:46:44.620644Z"
    }
   },
   "id": "e3a29b53f05f66a3",
   "execution_count": 16
  },
  {
   "cell_type": "code",
   "outputs": [
    {
     "ename": "NameError",
     "evalue": "name 'all_buy_signals' is not defined",
     "output_type": "error",
     "traceback": [
      "\u001B[0;31m---------------------------------------------------------------------------\u001B[0m",
      "\u001B[0;31mNameError\u001B[0m                                 Traceback (most recent call last)",
      "Input \u001B[0;32mIn [17]\u001B[0m, in \u001B[0;36m<cell line: 4>\u001B[0;34m()\u001B[0m\n\u001B[1;32m      1\u001B[0m \u001B[38;5;28;01mfrom\u001B[39;00m \u001B[38;5;21;01mtechnical_analysis\u001B[39;00m\u001B[38;5;21;01m.\u001B[39;00m\u001B[38;5;21;01mbacktest\u001B[39;00m \u001B[38;5;28;01mimport\u001B[39;00m backtest\n\u001B[1;32m      3\u001B[0m \u001B[38;5;66;03m# Realizando el backtesting con las señales consolidadas\u001B[39;00m\n\u001B[1;32m      4\u001B[0m results \u001B[38;5;241m=\u001B[39m backtest(data\u001B[38;5;241m=\u001B[39mdata_1d,\n\u001B[0;32m----> 5\u001B[0m                    buy_signals\u001B[38;5;241m=\u001B[39m\u001B[43mall_buy_signals\u001B[49m,\n\u001B[1;32m      6\u001B[0m                    sell_signals\u001B[38;5;241m=\u001B[39mall_sell_signals,\n\u001B[1;32m      7\u001B[0m                    initial_cash\u001B[38;5;241m=\u001B[39m\u001B[38;5;241m10000\u001B[39m,\n\u001B[1;32m      8\u001B[0m                    commission_per_trade\u001B[38;5;241m=\u001B[39m\u001B[38;5;241m0.001\u001B[39m,\n\u001B[1;32m      9\u001B[0m                    shares_to_operate\u001B[38;5;241m=\u001B[39m\u001B[38;5;241m10\u001B[39m,\n\u001B[1;32m     10\u001B[0m                    stop_loss\u001B[38;5;241m=\u001B[39m\u001B[38;5;241m0.01\u001B[39m,\n\u001B[1;32m     11\u001B[0m                    take_profit\u001B[38;5;241m=\u001B[39m\u001B[38;5;241m0.01\u001B[39m)\n",
      "\u001B[0;31mNameError\u001B[0m: name 'all_buy_signals' is not defined"
     ]
    }
   ],
   "source": [
    "from technical_analysis.backtest import backtest\n",
    "\n",
    "# Realizando el backtesting con las señales consolidadas\n",
    "results = backtest(data=data_1d,\n",
    "                   buy_signals=all_buy_signals,\n",
    "                   sell_signals=all_sell_signals,\n",
    "                   initial_cash=10000,\n",
    "                   commission_per_trade=0.001,\n",
    "                   shares_to_operate=10,\n",
    "                   stop_loss=0.01,\n",
    "                   take_profit=0.01)\n"
   ],
   "metadata": {
    "collapsed": false,
    "ExecuteTime": {
     "end_time": "2024-02-26T05:46:54.574510Z",
     "start_time": "2024-02-26T05:46:54.555414Z"
    }
   },
   "id": "f7b50a9a39383d6d",
   "execution_count": 17
  },
  {
   "cell_type": "code",
   "outputs": [],
   "source": [
    "# 4. Aplicación de Indicadores Técnicos\n",
    "# 'Aquí incluirías el código para calcular y visualizar los indicadores técnicos'\n"
   ],
   "metadata": {
    "collapsed": false,
    "ExecuteTime": {
     "start_time": "2024-02-26T05:46:44.646296Z"
    }
   },
   "id": "1b6e0d4052bf80bc",
   "execution_count": null
  },
  {
   "cell_type": "code",
   "outputs": [],
   "source": [
    "#5. Generación de Señales de Compra/Venta\n",
    "# 'Aquí mostrarías cómo generas las señales de compra/venta y las visualizas en un gráfico'"
   ],
   "metadata": {
    "collapsed": false,
    "ExecuteTime": {
     "start_time": "2024-02-26T05:46:44.648398Z"
    }
   },
   "id": "5a8a4f05b0e03058",
   "execution_count": null
  },
  {
   "cell_type": "code",
   "outputs": [],
   "source": [
    "# 6. Backtesting de Estrategias\n",
    "# 'Descripción de la metodología de backtesting y presentación de resultados'"
   ],
   "metadata": {
    "collapsed": false,
    "ExecuteTime": {
     "start_time": "2024-02-26T05:46:44.649930Z"
    }
   },
   "id": "523d08ddd0482ab3",
   "execution_count": null
  },
  {
   "cell_type": "code",
   "outputs": [],
   "source": [
    "# 7. Optimización de Estrategias\n",
    "# 'Descripción y resultados del proceso de optimización'\n"
   ],
   "metadata": {
    "collapsed": false,
    "ExecuteTime": {
     "start_time": "2024-02-26T05:46:44.651111Z"
    }
   },
   "id": "f65ba5377c935bf7",
   "execution_count": null
  },
  {
   "cell_type": "code",
   "outputs": [],
   "source": [
    "# 8. Estrategia Óptima y Prueba con Conjunto de Datos de Test\n",
    "# 'Detalles de la estrategia óptima y su aplicación al conjunto de datos de test'\n"
   ],
   "metadata": {
    "collapsed": false,
    "ExecuteTime": {
     "start_time": "2024-02-26T05:46:44.652186Z"
    }
   },
   "id": "d5e79722e2a808fa",
   "execution_count": null
  },
  {
   "cell_type": "code",
   "outputs": [],
   "source": [
    "# 9. Conclusión\n",
    "# 'Resumen de tus hallazgos y posibles pasos a futuro'\n"
   ],
   "metadata": {
    "collapsed": false,
    "ExecuteTime": {
     "start_time": "2024-02-26T05:46:44.653100Z"
    }
   },
   "id": "a47e9646ea6eac29",
   "execution_count": null
  },
  {
   "cell_type": "code",
   "outputs": [],
   "source": [
    "# 10. Apéndice\n",
    "# 'Cualquier análisis adicional o código relevante que quisieras incluir'\n"
   ],
   "metadata": {
    "collapsed": false,
    "ExecuteTime": {
     "start_time": "2024-02-26T05:46:44.654098Z"
    }
   },
   "id": "594c14f4b38b4f37",
   "execution_count": null
  }
 ],
 "metadata": {
  "kernelspec": {
   "display_name": "Python 3",
   "language": "python",
   "name": "python3"
  },
  "language_info": {
   "codemirror_mode": {
    "name": "ipython",
    "version": 2
   },
   "file_extension": ".py",
   "mimetype": "text/x-python",
   "name": "python",
   "nbconvert_exporter": "python",
   "pygments_lexer": "ipython2",
   "version": "2.7.6"
  }
 },
 "nbformat": 4,
 "nbformat_minor": 5
}
